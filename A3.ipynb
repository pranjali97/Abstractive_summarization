{
 "cells": [
  {
   "cell_type": "markdown",
   "metadata": {},
   "source": [
    "# Preparing Data"
   ]
  },
  {
   "cell_type": "code",
   "execution_count": 1,
   "metadata": {
    "tags": []
   },
   "outputs": [
    {
     "name": "stdout",
     "output_type": "stream",
     "text": [
      "Requirement already satisfied: torchtext in /soe/pranjalib/miniconda3/envs/env1/lib/python3.9/site-packages (0.15.2)\n",
      "Requirement already satisfied: torch==2.0.1 in /soe/pranjalib/miniconda3/envs/env1/lib/python3.9/site-packages (from torchtext) (2.0.1)\n",
      "Requirement already satisfied: numpy in /soe/pranjalib/miniconda3/envs/env1/lib/python3.9/site-packages (from torchtext) (1.24.3)\n",
      "Requirement already satisfied: tqdm in /soe/pranjalib/miniconda3/envs/env1/lib/python3.9/site-packages (from torchtext) (4.65.0)\n",
      "Requirement already satisfied: torchdata==0.6.1 in /soe/pranjalib/miniconda3/envs/env1/lib/python3.9/site-packages (from torchtext) (0.6.1)\n",
      "Requirement already satisfied: requests in /soe/pranjalib/miniconda3/envs/env1/lib/python3.9/site-packages (from torchtext) (2.28.2)\n",
      "Requirement already satisfied: sympy in /soe/pranjalib/miniconda3/envs/env1/lib/python3.9/site-packages (from torch==2.0.1->torchtext) (1.12)\n",
      "Requirement already satisfied: nvidia-nccl-cu11==2.14.3 in /soe/pranjalib/miniconda3/envs/env1/lib/python3.9/site-packages (from torch==2.0.1->torchtext) (2.14.3)\n",
      "Requirement already satisfied: nvidia-cuda-nvrtc-cu11==11.7.99 in /soe/pranjalib/miniconda3/envs/env1/lib/python3.9/site-packages (from torch==2.0.1->torchtext) (11.7.99)\n",
      "Requirement already satisfied: nvidia-cublas-cu11==11.10.3.66 in /soe/pranjalib/miniconda3/envs/env1/lib/python3.9/site-packages (from torch==2.0.1->torchtext) (11.10.3.66)\n",
      "Requirement already satisfied: nvidia-cusolver-cu11==11.4.0.1 in /soe/pranjalib/miniconda3/envs/env1/lib/python3.9/site-packages (from torch==2.0.1->torchtext) (11.4.0.1)\n",
      "Requirement already satisfied: networkx in /soe/pranjalib/miniconda3/envs/env1/lib/python3.9/site-packages (from torch==2.0.1->torchtext) (3.1)\n",
      "Requirement already satisfied: nvidia-cudnn-cu11==8.5.0.96 in /soe/pranjalib/miniconda3/envs/env1/lib/python3.9/site-packages (from torch==2.0.1->torchtext) (8.5.0.96)\n",
      "Requirement already satisfied: nvidia-cusparse-cu11==11.7.4.91 in /soe/pranjalib/miniconda3/envs/env1/lib/python3.9/site-packages (from torch==2.0.1->torchtext) (11.7.4.91)\n",
      "Requirement already satisfied: nvidia-cuda-cupti-cu11==11.7.101 in /soe/pranjalib/miniconda3/envs/env1/lib/python3.9/site-packages (from torch==2.0.1->torchtext) (11.7.101)\n",
      "Requirement already satisfied: typing-extensions in /soe/pranjalib/miniconda3/envs/env1/lib/python3.9/site-packages (from torch==2.0.1->torchtext) (4.5.0)\n",
      "Requirement already satisfied: nvidia-cuda-runtime-cu11==11.7.99 in /soe/pranjalib/miniconda3/envs/env1/lib/python3.9/site-packages (from torch==2.0.1->torchtext) (11.7.99)\n",
      "Requirement already satisfied: nvidia-curand-cu11==10.2.10.91 in /soe/pranjalib/miniconda3/envs/env1/lib/python3.9/site-packages (from torch==2.0.1->torchtext) (10.2.10.91)\n",
      "Requirement already satisfied: triton==2.0.0 in /soe/pranjalib/miniconda3/envs/env1/lib/python3.9/site-packages (from torch==2.0.1->torchtext) (2.0.0)\n",
      "Requirement already satisfied: nvidia-nvtx-cu11==11.7.91 in /soe/pranjalib/miniconda3/envs/env1/lib/python3.9/site-packages (from torch==2.0.1->torchtext) (11.7.91)\n",
      "Requirement already satisfied: nvidia-cufft-cu11==10.9.0.58 in /soe/pranjalib/miniconda3/envs/env1/lib/python3.9/site-packages (from torch==2.0.1->torchtext) (10.9.0.58)\n",
      "Requirement already satisfied: jinja2 in /soe/pranjalib/miniconda3/envs/env1/lib/python3.9/site-packages (from torch==2.0.1->torchtext) (3.1.2)\n",
      "Requirement already satisfied: filelock in /soe/pranjalib/miniconda3/envs/env1/lib/python3.9/site-packages (from torch==2.0.1->torchtext) (3.12.0)\n",
      "Requirement already satisfied: urllib3>=1.25 in /soe/pranjalib/miniconda3/envs/env1/lib/python3.9/site-packages (from torchdata==0.6.1->torchtext) (1.26.15)\n",
      "Requirement already satisfied: wheel in /soe/pranjalib/miniconda3/envs/env1/lib/python3.9/site-packages (from nvidia-cublas-cu11==11.10.3.66->torch==2.0.1->torchtext) (0.38.4)\n",
      "Requirement already satisfied: setuptools in /soe/pranjalib/miniconda3/envs/env1/lib/python3.9/site-packages (from nvidia-cublas-cu11==11.10.3.66->torch==2.0.1->torchtext) (66.0.0)\n",
      "Requirement already satisfied: lit in /soe/pranjalib/miniconda3/envs/env1/lib/python3.9/site-packages (from triton==2.0.0->torch==2.0.1->torchtext) (16.0.3)\n",
      "Requirement already satisfied: cmake in /soe/pranjalib/miniconda3/envs/env1/lib/python3.9/site-packages (from triton==2.0.0->torch==2.0.1->torchtext) (3.26.3)\n",
      "Requirement already satisfied: idna<4,>=2.5 in /soe/pranjalib/miniconda3/envs/env1/lib/python3.9/site-packages (from requests->torchtext) (3.4)\n",
      "Requirement already satisfied: charset-normalizer<4,>=2 in /soe/pranjalib/miniconda3/envs/env1/lib/python3.9/site-packages (from requests->torchtext) (3.1.0)\n",
      "Requirement already satisfied: certifi>=2017.4.17 in /soe/pranjalib/miniconda3/envs/env1/lib/python3.9/site-packages (from requests->torchtext) (2022.12.7)\n",
      "Requirement already satisfied: MarkupSafe>=2.0 in /soe/pranjalib/miniconda3/envs/env1/lib/python3.9/site-packages (from jinja2->torch==2.0.1->torchtext) (2.1.2)\n",
      "Requirement already satisfied: mpmath>=0.19 in /soe/pranjalib/miniconda3/envs/env1/lib/python3.9/site-packages (from sympy->torch==2.0.1->torchtext) (1.3.0)\n"
     ]
    }
   ],
   "source": [
    "!pip install torchtext"
   ]
  },
  {
   "cell_type": "code",
   "execution_count": 2,
   "metadata": {
    "tags": []
   },
   "outputs": [],
   "source": [
    "# !unzip data.zip"
   ]
  },
  {
   "cell_type": "code",
   "execution_count": 3,
   "metadata": {
    "tags": []
   },
   "outputs": [
    {
     "name": "stderr",
     "output_type": "stream",
     "text": [
      "/soe/pranjalib/miniconda3/envs/env1/lib/python3.9/site-packages/tqdm/auto.py:21: TqdmWarning: IProgress not found. Please update jupyter and ipywidgets. See https://ipywidgets.readthedocs.io/en/stable/user_install.html\n",
      "  from .autonotebook import tqdm as notebook_tqdm\n"
     ]
    }
   ],
   "source": [
    "import torch\n",
    "import torch.nn as nn\n",
    "from torch.nn.utils.rnn import pad_sequence\n",
    "import torch.optim as optim\n",
    "import torch.nn.functional as F\n",
    "\n",
    "from torchtext.vocab import build_vocab_from_iterator\n",
    "from torchtext import data, datasets\n",
    "from torch.utils.data import Dataset, DataLoader\n",
    "from torchtext.vocab import Vocab\n",
    "\n",
    "\n",
    "# import spacy\n",
    "import numpy as np\n",
    "\n",
    "import random\n",
    "import math\n",
    "import time"
   ]
  },
  {
   "cell_type": "code",
   "execution_count": 4,
   "metadata": {
    "tags": []
   },
   "outputs": [],
   "source": [
    "SEED = 1234\n",
    "\n",
    "random.seed(SEED)\n",
    "np.random.seed(SEED)\n",
    "torch.manual_seed(SEED)\n",
    "torch.cuda.manual_seed(SEED)\n",
    "torch.backends.cudnn.deterministic = True"
   ]
  },
  {
   "cell_type": "code",
   "execution_count": 5,
   "metadata": {
    "tags": []
   },
   "outputs": [],
   "source": [
    "#load_data\n",
    "\n",
    "train_src = []\n",
    "train_tgt = []\n",
    "val_src = []\n",
    "val_tgt = []\n",
    "test_src = []\n",
    "test_tgt = []"
   ]
  },
  {
   "cell_type": "code",
   "execution_count": 6,
   "metadata": {
    "tags": []
   },
   "outputs": [],
   "source": [
    "with open('data/train.txt.src', 'r') as f:\n",
    "    for line in f.readlines():\n",
    "        train_src.append(line)\n",
    "f.close()\n",
    "\n",
    "with open('data/train.txt.tgt', 'r') as f:\n",
    "    for line in f.readlines():\n",
    "        train_tgt.append(line)\n",
    "f.close()\n",
    "\n",
    "with open('data/val.txt.src', 'r') as f:\n",
    "    for line in f.readlines():\n",
    "        val_src.append(line)\n",
    "f.close()\n",
    "\n",
    "with open('data/val.txt.tgt', 'r') as f:\n",
    "    for line in f.readlines():\n",
    "        val_tgt.append(line)\n",
    "f.close()\n",
    "\n",
    "with open('data/test.txt.src', 'r') as f:\n",
    "    for line in f.readlines():\n",
    "        test_src.append(line)\n",
    "f.close()\n",
    "\n",
    "with open('data/test.txt.tgt', 'r') as f:\n",
    "    for line in f.readlines():\n",
    "        test_tgt.append(line)\n",
    "f.close()"
   ]
  },
  {
   "cell_type": "code",
   "execution_count": 7,
   "metadata": {
    "tags": []
   },
   "outputs": [
    {
     "name": "stdout",
     "output_type": "stream",
     "text": [
      "287227 287227 13368 13368 11490 11490\n"
     ]
    }
   ],
   "source": [
    "print(len(train_src), len(train_tgt), len(val_src), len(val_tgt), len(test_src), len(test_tgt))"
   ]
  },
  {
   "cell_type": "code",
   "execution_count": 8,
   "metadata": {
    "tags": []
   },
   "outputs": [],
   "source": [
    "def yield_tokens(sentences):\n",
    "    for line in sentences:\n",
    "        yield line.strip().split()\n",
    "        \n",
    "vocab = build_vocab_from_iterator(yield_tokens(train_src), specials=[\"<unk>\", \"<pad>\", '<sos>', '<eos>'])\n",
    "en_transform = lambda x: vocab[x] if x in vocab else vocab['<unk>']"
   ]
  },
  {
   "cell_type": "code",
   "execution_count": 9,
   "metadata": {
    "tags": []
   },
   "outputs": [
    {
     "data": {
      "text/plain": [
       "1"
      ]
     },
     "execution_count": 9,
     "metadata": {},
     "output_type": "execute_result"
    }
   ],
   "source": [
    "en_transform('<pad>')"
   ]
  },
  {
   "cell_type": "code",
   "execution_count": 10,
   "metadata": {
    "tags": []
   },
   "outputs": [],
   "source": [
    "class Summarization_Dataset(Dataset):\n",
    "    def __init__(self, src, tgt, transform):\n",
    "        self.transform_function = transform\n",
    "        self.src = src\n",
    "        self.tgt = tgt\n",
    "    \n",
    "    def __len__(self):\n",
    "        return len(self.src)\n",
    "    \n",
    "    def __getitem__(self, idx):\n",
    "        src = self.src[idx]\n",
    "        tgt = self.tgt[idx]\n",
    "        src_data = []\n",
    "        tgt_data = []\n",
    "        for word in src.strip().split():\n",
    "            src_data.append(self.transform_function(word))\n",
    "        for word in tgt.strip().split():\n",
    "            tgt_data.append(self.transform_function(word))\n",
    "        return src_data, tgt_data"
   ]
  },
  {
   "cell_type": "code",
   "execution_count": 11,
   "metadata": {
    "tags": []
   },
   "outputs": [],
   "source": [
    "train_data = Summarization_Dataset(train_src, train_tgt, en_transform)\n",
    "val_data = Summarization_Dataset(val_src, val_tgt, en_transform)\n",
    "test_data = Summarization_Dataset(test_src, test_tgt, en_transform)"
   ]
  },
  {
   "cell_type": "code",
   "execution_count": 12,
   "metadata": {
    "tags": []
   },
   "outputs": [],
   "source": [
    "def collate_fn(batch, vocab_en):\n",
    "    src_lengths = []\n",
    "    tgt_lengths = []\n",
    "    src_batch = []\n",
    "    tgt_batch = []\n",
    "    for x, y in batch:\n",
    "        src_lengths.append(len(x))\n",
    "        tgt_lengths.append(len(y))\n",
    "        src_batch.append(torch.Tensor(x))\n",
    "        tgt_batch.append(torch.Tensor(y))\n",
    "    return pad_sequence(src_batch, batch_first=True, padding_value=vocab_en['<pad>']), torch.tensor(src_lengths),\\\n",
    "            pad_sequence(tgt_batch, batch_first=False, padding_value=vocab_en['<pad>']), torch.tensor(tgt_lengths)"
   ]
  },
  {
   "cell_type": "code",
   "execution_count": 13,
   "metadata": {
    "tags": []
   },
   "outputs": [],
   "source": [
    "train_loader = DataLoader(train_data, batch_size=2, collate_fn = lambda batch: collate_fn(batch, vocab))\n",
    "val_loader = DataLoader(val_data, batch_size=2, collate_fn = lambda batch: collate_fn(batch, vocab))\n",
    "test_loader = DataLoader(test_data, batch_size=2, collate_fn = lambda batch: collate_fn(batch, vocab))"
   ]
  },
  {
   "cell_type": "code",
   "execution_count": 14,
   "metadata": {
    "tags": []
   },
   "outputs": [
    {
     "data": {
      "text/plain": [
       "(tensor([[2.1570e+03, 1.2000e+01, 1.8720e+03,  ..., 8.0000e+00, 4.4600e+02,\n",
       "          5.0000e+00],\n",
       "         [2.1200e+02, 6.0000e+00, 2.7900e+02,  ..., 1.0000e+00, 1.0000e+00,\n",
       "          1.0000e+00]]),\n",
       " tensor([820, 547]),\n",
       " tensor([[4.8890e+03, 1.3670e+03],\n",
       "         [2.0970e+03, 5.8200e+03],\n",
       "         [4.0210e+03, 4.4000e+02],\n",
       "         [1.1000e+01, 1.6220e+03],\n",
       "         [2.4430e+03, 1.3280e+04],\n",
       "         [3.8000e+01, 1.3250e+03],\n",
       "         [8.2420e+03, 1.1300e+02],\n",
       "         [1.8000e+01, 1.9774e+04],\n",
       "         [4.0000e+00, 3.6920e+03],\n",
       "         [3.6000e+01, 2.7000e+01],\n",
       "         [4.7860e+03, 2.0000e+01],\n",
       "         [1.1810e+03, 2.9900e+03],\n",
       "         [3.5000e+01, 6.3600e+02],\n",
       "         [4.5300e+02, 3.0700e+02],\n",
       "         [2.1910e+03, 5.0000e+00],\n",
       "         [9.4215e+04, 2.3600e+02],\n",
       "         [1.3300e+02, 1.5280e+03],\n",
       "         [1.2400e+02, 1.3300e+02],\n",
       "         [3.8000e+01, 2.0000e+01],\n",
       "         [6.7000e+01, 3.2000e+01],\n",
       "         [2.7000e+01, 9.1000e+01],\n",
       "         [8.0000e+00, 6.7700e+02],\n",
       "         [7.0800e+02, 7.0000e+00],\n",
       "         [1.0000e+01, 8.3118e+04],\n",
       "         [3.6000e+01, 2.5000e+01],\n",
       "         [1.8901e+04, 1.3100e+03],\n",
       "         [2.1075e+04, 2.1500e+02],\n",
       "         [3.5000e+01, 5.0000e+00],\n",
       "         [1.0500e+02, 1.3280e+04],\n",
       "         [1.2100e+02, 1.2000e+01],\n",
       "         [5.4610e+03, 6.3090e+03],\n",
       "         [2.1630e+03, 3.1000e+01],\n",
       "         [6.0000e+00, 9.0000e+01],\n",
       "         [1.5460e+03, 2.2700e+02],\n",
       "         [1.2164e+04, 5.8200e+03],\n",
       "         [2.4000e+01, 2.4490e+03],\n",
       "         [3.6000e+01, 3.0000e+01],\n",
       "         [2.8000e+01, 5.0000e+01],\n",
       "         [3.4900e+02, 4.5200e+02],\n",
       "         [4.0000e+00, 1.1000e+01],\n",
       "         [2.7800e+02, 1.0680e+03],\n",
       "         [1.0000e+01, 1.7470e+03],\n",
       "         [4.0000e+00, 5.0000e+00],\n",
       "         [1.6300e+02, 1.0000e+00],\n",
       "         [3.5000e+01, 1.0000e+00],\n",
       "         [9.4215e+04, 1.0000e+00],\n",
       "         [1.3300e+02, 1.0000e+00],\n",
       "         [4.0000e+00, 1.0000e+00],\n",
       "         [4.1100e+02, 1.0000e+00],\n",
       "         [1.9000e+01, 1.0000e+00],\n",
       "         [1.6584e+04, 1.0000e+00],\n",
       "         [9.0000e+00, 1.0000e+00],\n",
       "         [2.0000e+01, 1.0000e+00],\n",
       "         [1.2000e+01, 1.0000e+00],\n",
       "         [9.3500e+02, 1.0000e+00],\n",
       "         [1.5000e+01, 1.0000e+00],\n",
       "         [4.1900e+02, 1.0000e+00],\n",
       "         [5.0000e+00, 1.0000e+00]]),\n",
       " tensor([58, 43]))"
      ]
     },
     "execution_count": 14,
     "metadata": {},
     "output_type": "execute_result"
    }
   ],
   "source": [
    "next(iter(train_loader))"
   ]
  },
  {
   "cell_type": "markdown",
   "metadata": {},
   "source": [
    "## Building the Model\n",
    "\n",
    "### Encoder"
   ]
  },
  {
   "cell_type": "code",
   "execution_count": 15,
   "metadata": {
    "tags": []
   },
   "outputs": [],
   "source": [
    "class Encoder(nn.Module):\n",
    "    def __init__(self, input_dim, emb_dim, enc_hid_dim, dec_hid_dim, dropout):\n",
    "        super().__init__()\n",
    "        \n",
    "        self.embedding = nn.Embedding(input_dim, emb_dim)\n",
    "        \n",
    "        self.rnn = nn.GRU(emb_dim, enc_hid_dim, bidirectional = True)\n",
    "        \n",
    "        self.fc = nn.Linear(enc_hid_dim * 2, dec_hid_dim)\n",
    "        \n",
    "        self.dropout = nn.Dropout(dropout)\n",
    "        \n",
    "    def forward(self, src, src_len):\n",
    "        \n",
    "        #src = [src len, batch size]\n",
    "        #src_len = [batch size]\n",
    "        print('Encoder')\n",
    "        print('1')\n",
    "        print('src shape', src.shape)\n",
    "        embedded = self.dropout(self.embedding(src))\n",
    "        \n",
    "        #embedded = [src len, batch size, emb dim]\n",
    "                \n",
    "        #need to explicitly put lengths on cpu!\n",
    "        print('2')\n",
    "        packed_embedded = nn.utils.rnn.pack_padded_sequence(embedded, src_len.to('cpu'))\n",
    "        print('3')\n",
    "        packed_outputs, hidden = self.rnn(packed_embedded)\n",
    "                                 \n",
    "        #packed_outputs is a packed sequence containing all hidden states\n",
    "        #hidden is now from the final non-padded element in the batch\n",
    "            \n",
    "        outputs, _ = nn.utils.rnn.pad_packed_sequence(packed_outputs) \n",
    "            \n",
    "        #outputs is now a non-packed sequence, all hidden states obtained\n",
    "        #  when the input is a pad token are all zeros\n",
    "            \n",
    "        #outputs = [src len, batch size, hid dim * num directions]\n",
    "        #hidden = [n layers * num directions, batch size, hid dim]\n",
    "        \n",
    "        #hidden is stacked [forward_1, backward_1, forward_2, backward_2, ...]\n",
    "        #outputs are always from the last layer\n",
    "        \n",
    "        #hidden [-2, :, : ] is the last of the forwards RNN \n",
    "        #hidden [-1, :, : ] is the last of the backwards RNN\n",
    "        \n",
    "        #initial decoder hidden is final hidden state of the forwards and backwards \n",
    "        #  encoder RNNs fed through a linear layer\n",
    "        hidden = torch.tanh(self.fc(torch.cat((hidden[-2,:,:], hidden[-1,:,:]), dim = 1)))\n",
    "        print('4')\n",
    "        #outputs = [src len, batch size, enc hid dim * 2]\n",
    "        #hidden = [batch size, dec hid dim]\n",
    "        \n",
    "        return outputs, hidden"
   ]
  },
  {
   "cell_type": "markdown",
   "metadata": {},
   "source": [
    "### Attention"
   ]
  },
  {
   "cell_type": "code",
   "execution_count": 16,
   "metadata": {
    "tags": []
   },
   "outputs": [],
   "source": [
    "class Attention(nn.Module):\n",
    "    def __init__(self, enc_hid_dim, dec_hid_dim):\n",
    "        super().__init__()\n",
    "        \n",
    "        self.attn = nn.Linear((enc_hid_dim * 2) + dec_hid_dim, dec_hid_dim)\n",
    "        self.v = nn.Linear(dec_hid_dim, 1, bias = False)\n",
    "        \n",
    "    def forward(self, hidden, encoder_outputs, mask):\n",
    "        \n",
    "        #hidden = [batch size, dec hid dim]\n",
    "        #encoder_outputs = [src len, batch size, enc hid dim * 2]\n",
    "        \n",
    "        batch_size = encoder_outputs.shape[1]\n",
    "        src_len = encoder_outputs.shape[0]\n",
    "        \n",
    "        #repeat decoder hidden state src_len times\n",
    "        hidden = hidden.unsqueeze(1).repeat(1, src_len, 1)\n",
    "  \n",
    "        encoder_outputs = encoder_outputs.permute(1, 0, 2)\n",
    "        \n",
    "        #hidden = [batch size, src len, dec hid dim]\n",
    "        #encoder_outputs = [batch size, src len, enc hid dim * 2]\n",
    "        \n",
    "        energy = torch.tanh(self.attn(torch.cat((hidden, encoder_outputs), dim = 2))) \n",
    "        \n",
    "        #energy = [batch size, src len, dec hid dim]\n",
    "\n",
    "        attention = self.v(energy).squeeze(2)\n",
    "        \n",
    "        #attention = [batch size, src len]\n",
    "        \n",
    "        attention = attention.masked_fill(mask == 0, -1e10)\n",
    "        \n",
    "        return F.softmax(attention, dim = 1)"
   ]
  },
  {
   "cell_type": "markdown",
   "metadata": {},
   "source": [
    "### Decoder"
   ]
  },
  {
   "cell_type": "code",
   "execution_count": 17,
   "metadata": {
    "tags": []
   },
   "outputs": [],
   "source": [
    "class Decoder(nn.Module):\n",
    "    def __init__(self, output_dim, emb_dim, enc_hid_dim, dec_hid_dim, dropout, attention):\n",
    "        super().__init__()\n",
    "\n",
    "        self.output_dim = output_dim\n",
    "        self.attention = attention\n",
    "        \n",
    "        self.embedding = nn.Embedding(output_dim, emb_dim)\n",
    "        \n",
    "        self.rnn = nn.GRU((enc_hid_dim * 2) + emb_dim, dec_hid_dim)\n",
    "        \n",
    "        self.fc_out = nn.Linear((enc_hid_dim * 2) + dec_hid_dim + emb_dim, output_dim)\n",
    "        \n",
    "        self.dropout = nn.Dropout(dropout)\n",
    "        \n",
    "    def forward(self, input, hidden, encoder_outputs, mask):\n",
    "             \n",
    "        #input = [batch size]\n",
    "        #hidden = [batch size, dec hid dim]\n",
    "        #encoder_outputs = [src len, batch size, enc hid dim * 2]\n",
    "        #mask = [batch size, src len]\n",
    "        \n",
    "        input = input.unsqueeze(0)\n",
    "        \n",
    "        #input = [1, batch size]\n",
    "        \n",
    "        embedded = self.dropout(self.embedding(input))\n",
    "        \n",
    "        #embedded = [1, batch size, emb dim]\n",
    "        \n",
    "        a = self.attention(hidden, encoder_outputs, mask)\n",
    "                \n",
    "        #a = [batch size, src len]\n",
    "        \n",
    "        a = a.unsqueeze(1)\n",
    "        \n",
    "        #a = [batch size, 1, src len]\n",
    "        \n",
    "        encoder_outputs = encoder_outputs.permute(1, 0, 2)\n",
    "        \n",
    "        #encoder_outputs = [batch size, src len, enc hid dim * 2]\n",
    "        \n",
    "        weighted = torch.bmm(a, encoder_outputs)\n",
    "        \n",
    "        #weighted = [batch size, 1, enc hid dim * 2]\n",
    "        \n",
    "        weighted = weighted.permute(1, 0, 2)\n",
    "        \n",
    "        #weighted = [1, batch size, enc hid dim * 2]\n",
    "        \n",
    "        rnn_input = torch.cat((embedded, weighted), dim = 2)\n",
    "        \n",
    "        #rnn_input = [1, batch size, (enc hid dim * 2) + emb dim]\n",
    "            \n",
    "        output, hidden = self.rnn(rnn_input, hidden.unsqueeze(0))\n",
    "        \n",
    "        #output = [seq len, batch size, dec hid dim * n directions]\n",
    "        #hidden = [n layers * n directions, batch size, dec hid dim]\n",
    "        \n",
    "        #seq len, n layers and n directions will always be 1 in this decoder, therefore:\n",
    "        #output = [1, batch size, dec hid dim]\n",
    "        #hidden = [1, batch size, dec hid dim]\n",
    "        #this also means that output == hidden\n",
    "        assert (output == hidden).all()\n",
    "        \n",
    "        embedded = embedded.squeeze(0)\n",
    "        output = output.squeeze(0)\n",
    "        weighted = weighted.squeeze(0)\n",
    "        \n",
    "        prediction = self.fc_out(torch.cat((output, weighted, embedded), dim = 1))\n",
    "        \n",
    "        #prediction = [batch size, output dim]\n",
    "        \n",
    "        return prediction, hidden.squeeze(0), a.squeeze(1)"
   ]
  },
  {
   "cell_type": "markdown",
   "metadata": {},
   "source": [
    "### Seq2Seq\n",
    "\n",
    "The overarching seq2seq model also needs a few changes for packed padded sequences, masking and inference. \n",
    "\n",
    "We need to tell it what the indexes are for the pad token and also pass the source sentence lengths as input to the `forward` method.\n",
    "\n",
    "We use the pad token index to create the masks, by creating a mask tensor that is 1 wherever the source sentence is not equal to the pad token. This is all done within the `create_mask` function.\n",
    "\n",
    "The sequence lengths as needed to pass to the encoder to use packed padded sequences.\n",
    "\n",
    "The attention at each time-step is stored in the `attentions` "
   ]
  },
  {
   "cell_type": "code",
   "execution_count": 18,
   "metadata": {
    "tags": []
   },
   "outputs": [],
   "source": [
    "class Seq2Seq(nn.Module):\n",
    "    def __init__(self, encoder, decoder, src_pad_idx, device):\n",
    "        super().__init__()\n",
    "        \n",
    "        self.encoder = encoder\n",
    "        self.decoder = decoder\n",
    "        self.src_pad_idx = src_pad_idx\n",
    "        self.device = device\n",
    "        \n",
    "    def create_mask(self, src):\n",
    "        mask = (src != self.src_pad_idx).permute(1, 0)\n",
    "        return mask\n",
    "        \n",
    "    def forward(self, src, src_len, trg, teacher_forcing_ratio = 0.5):\n",
    "        \n",
    "        #src = [src len, batch size]\n",
    "        #src_len = [batch size]\n",
    "        #trg = [trg len, batch size]\n",
    "        #teacher_forcing_ratio is probability to use teacher forcing\n",
    "        #e.g. if teacher_forcing_ratio is 0.75 we use teacher forcing 75% of the time\n",
    "        \n",
    "        print('forward')\n",
    "        print('src shape', src.shape)\n",
    "        print('src_len', src_len)\n",
    "        print('trg shape', trg.shape)\n",
    "        batch_size = src.shape[1]\n",
    "        trg_len = trg.shape[0]\n",
    "        trg_vocab_size = self.decoder.output_dim\n",
    "        \n",
    "        \n",
    "        #tensor to store decoder outputs\n",
    "        outputs = torch.zeros(trg_len, batch_size, trg_vocab_size).to(self.device)\n",
    "        \n",
    "        #encoder_outputs is all hidden states of the input sequence, back and forwards\n",
    "        #hidden is the final forward and backward hidden states, passed through a linear layer\n",
    "        encoder_outputs, hidden = self.encoder(src, src_len)\n",
    "        print('encoder done')  \n",
    "        #first input to the decoder is the <sos> tokens\n",
    "        input = trg[0,:]\n",
    "        \n",
    "        mask = self.create_mask(src)\n",
    "        print('Mask')\n",
    "\n",
    "        #mask = [batch size, src len]\n",
    "                \n",
    "        for t in range(1, trg_len):\n",
    "            \n",
    "            #insert input token embedding, previous hidden state, all encoder hidden states \n",
    "            #  and mask\n",
    "            #receive output tensor (predictions) and new hidden state\n",
    "            output, hidden, _ = self.decoder(input, hidden, encoder_outputs, mask)\n",
    "            \n",
    "            #place predictions in a tensor holding predictions for each token\n",
    "            outputs[t] = output\n",
    "            \n",
    "            #decide if we are going to use teacher forcing or not\n",
    "            teacher_force = random.random() < teacher_forcing_ratio\n",
    "            \n",
    "            #get the highest predicted token from our predictions\n",
    "            top1 = output.argmax(1) \n",
    "            \n",
    "            #if teacher forcing, use actual next token as next input\n",
    "            #if not, use predicted token\n",
    "            input = trg[t] if teacher_force else top1\n",
    "            \n",
    "        return outputs"
   ]
  },
  {
   "cell_type": "markdown",
   "metadata": {},
   "source": [
    "## Training the Seq2Seq Model\n",
    "\n",
    "Next up, initializing the model and placing it on the GPU."
   ]
  },
  {
   "cell_type": "code",
   "execution_count": 19,
   "metadata": {
    "tags": []
   },
   "outputs": [],
   "source": [
    "device = torch.device(\"cuda:0\" if torch.cuda.is_available() else \"cpu\")"
   ]
  },
  {
   "cell_type": "code",
   "execution_count": 20,
   "metadata": {
    "tags": []
   },
   "outputs": [
    {
     "data": {
      "text/plain": [
       "device(type='cuda', index=0)"
      ]
     },
     "execution_count": 20,
     "metadata": {},
     "output_type": "execute_result"
    }
   ],
   "source": [
    "device"
   ]
  },
  {
   "cell_type": "code",
   "execution_count": 21,
   "metadata": {
    "tags": []
   },
   "outputs": [],
   "source": [
    "INPUT_DIM = len(vocab)\n",
    "OUTPUT_DIM = len(vocab)\n",
    "ENC_EMB_DIM = 128\n",
    "DEC_EMB_DIM = 128\n",
    "ENC_HID_DIM = 256\n",
    "DEC_HID_DIM = 256\n",
    "ENC_DROPOUT = 0.5\n",
    "DEC_DROPOUT = 0.5\n",
    "SRC_PAD_IDX = en_transform('<pad>')\n",
    "\n",
    "attn = Attention(ENC_HID_DIM, DEC_HID_DIM)\n",
    "enc = Encoder(INPUT_DIM, ENC_EMB_DIM, ENC_HID_DIM, DEC_HID_DIM, ENC_DROPOUT)\n",
    "dec = Decoder(OUTPUT_DIM, DEC_EMB_DIM, ENC_HID_DIM, DEC_HID_DIM, DEC_DROPOUT, attn)\n",
    "\n",
    "model = Seq2Seq(enc, dec, SRC_PAD_IDX, device).to(device)"
   ]
  },
  {
   "cell_type": "markdown",
   "metadata": {},
   "source": [
    "Then, we initialize the model parameters."
   ]
  },
  {
   "cell_type": "code",
   "execution_count": 22,
   "metadata": {
    "tags": []
   },
   "outputs": [
    {
     "data": {
      "text/plain": [
       "Seq2Seq(\n",
       "  (encoder): Encoder(\n",
       "    (embedding): Embedding(722719, 128)\n",
       "    (rnn): GRU(128, 256, bidirectional=True)\n",
       "    (fc): Linear(in_features=512, out_features=256, bias=True)\n",
       "    (dropout): Dropout(p=0.5, inplace=False)\n",
       "  )\n",
       "  (decoder): Decoder(\n",
       "    (attention): Attention(\n",
       "      (attn): Linear(in_features=768, out_features=256, bias=True)\n",
       "      (v): Linear(in_features=256, out_features=1, bias=False)\n",
       "    )\n",
       "    (embedding): Embedding(722719, 128)\n",
       "    (rnn): GRU(640, 256)\n",
       "    (fc_out): Linear(in_features=896, out_features=722719, bias=True)\n",
       "    (dropout): Dropout(p=0.5, inplace=False)\n",
       "  )\n",
       ")"
      ]
     },
     "execution_count": 22,
     "metadata": {},
     "output_type": "execute_result"
    }
   ],
   "source": [
    "def init_weights(m):\n",
    "    for name, param in m.named_parameters():\n",
    "        if 'weight' in name:\n",
    "            nn.init.normal_(param.data, mean=0, std=0.01)\n",
    "        else:\n",
    "            nn.init.constant_(param.data, 0)\n",
    "            \n",
    "model.apply(init_weights)"
   ]
  },
  {
   "cell_type": "markdown",
   "metadata": {},
   "source": [
    "We'll print out the number of trainable parameters in the model, noticing that it has the exact same amount of parameters as the model without these improvements."
   ]
  },
  {
   "cell_type": "code",
   "execution_count": 23,
   "metadata": {
    "tags": []
   },
   "outputs": [
    {
     "name": "stdout",
     "output_type": "stream",
     "text": [
      "The model has 834,906,015 trainable parameters\n"
     ]
    }
   ],
   "source": [
    "def count_parameters(model):\n",
    "    return sum(p.numel() for p in model.parameters() if p.requires_grad)\n",
    "\n",
    "print(f'The model has {count_parameters(model):,} trainable parameters')"
   ]
  },
  {
   "cell_type": "markdown",
   "metadata": {},
   "source": [
    "Then we define our optimizer and criterion. \n",
    "\n",
    "The `ignore_index` for the criterion needs to be the index of the pad token for the target language, not the source language."
   ]
  },
  {
   "cell_type": "code",
   "execution_count": 24,
   "metadata": {
    "tags": []
   },
   "outputs": [],
   "source": [
    "optimizer = optim.Adam(model.parameters())"
   ]
  },
  {
   "cell_type": "code",
   "execution_count": 25,
   "metadata": {
    "tags": []
   },
   "outputs": [],
   "source": [
    "TRG_PAD_IDX = en_transform('<pad>')\n",
    "\n",
    "criterion = nn.CrossEntropyLoss(ignore_index = TRG_PAD_IDX)"
   ]
  },
  {
   "cell_type": "markdown",
   "metadata": {},
   "source": [
    "Next, we'll define our training and evaluation loops.\n",
    "\n",
    "As we are using `include_lengths = True` for our source field, `batch.src` is now a tuple with the first element being the numericalized tensor representing the sentence and the second element being the lengths of each sentence within the batch.\n",
    "\n",
    "Our model also returns the attention vectors over the batch of source source sentences for each decoding time-step. We won't use these during the training/evaluation, but we will later for inference."
   ]
  },
  {
   "cell_type": "code",
   "execution_count": 26,
   "metadata": {
    "tags": []
   },
   "outputs": [],
   "source": [
    "# next(iter(train_loader))"
   ]
  },
  {
   "cell_type": "code",
   "execution_count": 27,
   "metadata": {
    "tags": []
   },
   "outputs": [],
   "source": [
    "# for i, batch in enumerate(train_loader):\n",
    "#     print(i)\n",
    "#     src = batch[0]\n",
    "#     print(batch[1])\n",
    "#     print(batch[2])\n",
    "#     # src_lens = \n",
    "#     break"
   ]
  },
  {
   "cell_type": "code",
   "execution_count": 28,
   "metadata": {
    "tags": []
   },
   "outputs": [],
   "source": [
    "def train(model, iterator, optimizer, criterion, clip):\n",
    "    \n",
    "    model.train()\n",
    "    \n",
    "    epoch_loss = 0\n",
    "    \n",
    "    for i, batch in enumerate(iterator):\n",
    "        \n",
    "        src, src_len = batch[0], batch[1]\n",
    "        trg = batch[2]\n",
    "        \n",
    "        optimizer.zero_grad()\n",
    "        \n",
    "        output = model(src, src_len, trg)\n",
    "        \n",
    "        #trg = [trg len, batch size]\n",
    "        #output = [trg len, batch size, output dim]\n",
    "        \n",
    "#         output_dim = output.shape[-1]\n",
    "        \n",
    "#         output = output[1:].view(-1, output_dim)\n",
    "#         trg = trg[1:].view(-1)\n",
    "        \n",
    "#         #trg = [(trg len - 1) * batch size]\n",
    "#         #output = [(trg len - 1) * batch size, output dim]\n",
    "        \n",
    "#         loss = criterion(output, trg)\n",
    "        \n",
    "#         loss.backward()\n",
    "        \n",
    "#         torch.nn.utils.clip_grad_norm_(model.parameters(), clip)\n",
    "        \n",
    "#         optimizer.step()\n",
    "        \n",
    "#         epoch_loss += loss.item()\n",
    "        \n",
    "#     return epoch_loss / len(iterator)\n",
    "    return None\n",
    "        "
   ]
  },
  {
   "cell_type": "code",
   "execution_count": 29,
   "metadata": {
    "tags": []
   },
   "outputs": [],
   "source": [
    "# def evaluate(model, iterator, criterion):\n",
    "    \n",
    "#     model.eval()\n",
    "    \n",
    "#     epoch_loss = 0\n",
    "    \n",
    "#     with torch.no_grad():\n",
    "    \n",
    "#         for i, batch in enumerate(iterator):\n",
    "\n",
    "#             src, src_len = batch[0], batch[1]\n",
    "#             trg = batch[2]\n",
    "\n",
    "#             output = model(src, src_len, trg, 0) #turn off teacher forcing\n",
    "            \n",
    "#             #trg = [trg len, batch size]\n",
    "#             #output = [trg len, batch size, output dim]\n",
    "\n",
    "#             output_dim = output.shape[-1]\n",
    "            \n",
    "#             output = output[1:].view(-1, output_dim)\n",
    "#             trg = trg[1:].view(-1)\n",
    "\n",
    "#             #trg = [(trg len - 1) * batch size]\n",
    "#             #output = [(trg len - 1) * batch size, output dim]\n",
    "\n",
    "#             loss = criterion(output, trg)\n",
    "\n",
    "#             epoch_loss += loss.item()\n",
    "        \n",
    "#     return epoch_loss / len(iterator)"
   ]
  },
  {
   "cell_type": "markdown",
   "metadata": {},
   "source": [
    "Then, we'll define a useful function for timing how long epochs take."
   ]
  },
  {
   "cell_type": "code",
   "execution_count": 30,
   "metadata": {
    "tags": []
   },
   "outputs": [],
   "source": [
    "def epoch_time(start_time, end_time):\n",
    "    elapsed_time = end_time - start_time\n",
    "    elapsed_mins = int(elapsed_time / 60)\n",
    "    elapsed_secs = int(elapsed_time - (elapsed_mins * 60))\n",
    "    return elapsed_mins, elapsed_secs"
   ]
  },
  {
   "cell_type": "markdown",
   "metadata": {},
   "source": [
    "The penultimate step is to train our model. Notice how it takes almost half the time as our model without the improvements added in this notebook."
   ]
  },
  {
   "cell_type": "code",
   "execution_count": 31,
   "metadata": {
    "tags": []
   },
   "outputs": [
    {
     "name": "stdout",
     "output_type": "stream",
     "text": [
      "forward\n",
      "src shape torch.Size([2, 820])\n",
      "src_len tensor([820, 547])\n",
      "trg shape torch.Size([58, 2])\n"
     ]
    },
    {
     "ename": "OutOfMemoryError",
     "evalue": "CUDA out of memory. Tried to allocate 128.05 GiB (GPU 0; 23.70 GiB total capacity; 3.11 GiB already allocated; 19.53 GiB free; 3.13 GiB reserved in total by PyTorch) If reserved memory is >> allocated memory try setting max_split_size_mb to avoid fragmentation.  See documentation for Memory Management and PYTORCH_CUDA_ALLOC_CONF",
     "output_type": "error",
     "traceback": [
      "\u001b[0;31m---------------------------------------------------------------------------\u001b[0m",
      "\u001b[0;31mOutOfMemoryError\u001b[0m                          Traceback (most recent call last)",
      "Cell \u001b[0;32mIn[31], line 10\u001b[0m\n\u001b[1;32m      6\u001b[0m \u001b[38;5;28;01mfor\u001b[39;00m epoch \u001b[38;5;129;01min\u001b[39;00m \u001b[38;5;28mrange\u001b[39m(N_EPOCHS):\n\u001b[1;32m      8\u001b[0m     start_time \u001b[38;5;241m=\u001b[39m time\u001b[38;5;241m.\u001b[39mtime()\n\u001b[0;32m---> 10\u001b[0m     train_loss \u001b[38;5;241m=\u001b[39m \u001b[43mtrain\u001b[49m\u001b[43m(\u001b[49m\u001b[43mmodel\u001b[49m\u001b[43m,\u001b[49m\u001b[43m \u001b[49m\u001b[43mtrain_loader\u001b[49m\u001b[43m,\u001b[49m\u001b[43m \u001b[49m\u001b[43moptimizer\u001b[49m\u001b[43m,\u001b[49m\u001b[43m \u001b[49m\u001b[43mcriterion\u001b[49m\u001b[43m,\u001b[49m\u001b[43m \u001b[49m\u001b[43mCLIP\u001b[49m\u001b[43m)\u001b[49m\n\u001b[1;32m     11\u001b[0m \u001b[38;5;66;03m#     valid_loss = evaluate(model, valid_loader, criterion)\u001b[39;00m\n\u001b[1;32m     12\u001b[0m     \n\u001b[1;32m     13\u001b[0m \u001b[38;5;66;03m#     end_time = time.time()\u001b[39;00m\n\u001b[0;32m   (...)\u001b[0m\n\u001b[1;32m     22\u001b[0m \u001b[38;5;66;03m#     print(f'\\tTrain Loss: {train_loss:.3f} | Train PPL: {math.exp(train_loss):7.3f}')\u001b[39;00m\n\u001b[1;32m     23\u001b[0m \u001b[38;5;66;03m#     print(f'\\t Val. Loss: {valid_loss:.3f} |  Val. PPL: {math.exp(valid_loss):7.3f}')\u001b[39;00m\n",
      "Cell \u001b[0;32mIn[28], line 14\u001b[0m, in \u001b[0;36mtrain\u001b[0;34m(model, iterator, optimizer, criterion, clip)\u001b[0m\n\u001b[1;32m     10\u001b[0m         trg \u001b[38;5;241m=\u001b[39m batch[\u001b[38;5;241m2\u001b[39m]\n\u001b[1;32m     12\u001b[0m         optimizer\u001b[38;5;241m.\u001b[39mzero_grad()\n\u001b[0;32m---> 14\u001b[0m         output \u001b[38;5;241m=\u001b[39m \u001b[43mmodel\u001b[49m\u001b[43m(\u001b[49m\u001b[43msrc\u001b[49m\u001b[43m,\u001b[49m\u001b[43m \u001b[49m\u001b[43msrc_len\u001b[49m\u001b[43m,\u001b[49m\u001b[43m \u001b[49m\u001b[43mtrg\u001b[49m\u001b[43m)\u001b[49m\n\u001b[1;32m     16\u001b[0m         \u001b[38;5;66;03m#trg = [trg len, batch size]\u001b[39;00m\n\u001b[1;32m     17\u001b[0m         \u001b[38;5;66;03m#output = [trg len, batch size, output dim]\u001b[39;00m\n\u001b[1;32m     18\u001b[0m         \n\u001b[0;32m   (...)\u001b[0m\n\u001b[1;32m     36\u001b[0m         \n\u001b[1;32m     37\u001b[0m \u001b[38;5;66;03m#     return epoch_loss / len(iterator)\u001b[39;00m\n\u001b[1;32m     38\u001b[0m     \u001b[38;5;28;01mreturn\u001b[39;00m \u001b[38;5;28;01mNone\u001b[39;00m\n",
      "File \u001b[0;32m~/miniconda3/envs/env1/lib/python3.9/site-packages/torch/nn/modules/module.py:1501\u001b[0m, in \u001b[0;36mModule._call_impl\u001b[0;34m(self, *args, **kwargs)\u001b[0m\n\u001b[1;32m   1496\u001b[0m \u001b[38;5;66;03m# If we don't have any hooks, we want to skip the rest of the logic in\u001b[39;00m\n\u001b[1;32m   1497\u001b[0m \u001b[38;5;66;03m# this function, and just call forward.\u001b[39;00m\n\u001b[1;32m   1498\u001b[0m \u001b[38;5;28;01mif\u001b[39;00m \u001b[38;5;129;01mnot\u001b[39;00m (\u001b[38;5;28mself\u001b[39m\u001b[38;5;241m.\u001b[39m_backward_hooks \u001b[38;5;129;01mor\u001b[39;00m \u001b[38;5;28mself\u001b[39m\u001b[38;5;241m.\u001b[39m_backward_pre_hooks \u001b[38;5;129;01mor\u001b[39;00m \u001b[38;5;28mself\u001b[39m\u001b[38;5;241m.\u001b[39m_forward_hooks \u001b[38;5;129;01mor\u001b[39;00m \u001b[38;5;28mself\u001b[39m\u001b[38;5;241m.\u001b[39m_forward_pre_hooks\n\u001b[1;32m   1499\u001b[0m         \u001b[38;5;129;01mor\u001b[39;00m _global_backward_pre_hooks \u001b[38;5;129;01mor\u001b[39;00m _global_backward_hooks\n\u001b[1;32m   1500\u001b[0m         \u001b[38;5;129;01mor\u001b[39;00m _global_forward_hooks \u001b[38;5;129;01mor\u001b[39;00m _global_forward_pre_hooks):\n\u001b[0;32m-> 1501\u001b[0m     \u001b[38;5;28;01mreturn\u001b[39;00m \u001b[43mforward_call\u001b[49m\u001b[43m(\u001b[49m\u001b[38;5;241;43m*\u001b[39;49m\u001b[43margs\u001b[49m\u001b[43m,\u001b[49m\u001b[43m \u001b[49m\u001b[38;5;241;43m*\u001b[39;49m\u001b[38;5;241;43m*\u001b[39;49m\u001b[43mkwargs\u001b[49m\u001b[43m)\u001b[49m\n\u001b[1;32m   1502\u001b[0m \u001b[38;5;66;03m# Do not call functions when jit is used\u001b[39;00m\n\u001b[1;32m   1503\u001b[0m full_backward_hooks, non_full_backward_hooks \u001b[38;5;241m=\u001b[39m [], []\n",
      "Cell \u001b[0;32mIn[18], line 32\u001b[0m, in \u001b[0;36mSeq2Seq.forward\u001b[0;34m(self, src, src_len, trg, teacher_forcing_ratio)\u001b[0m\n\u001b[1;32m     28\u001b[0m trg_vocab_size \u001b[38;5;241m=\u001b[39m \u001b[38;5;28mself\u001b[39m\u001b[38;5;241m.\u001b[39mdecoder\u001b[38;5;241m.\u001b[39moutput_dim\n\u001b[1;32m     31\u001b[0m \u001b[38;5;66;03m#tensor to store decoder outputs\u001b[39;00m\n\u001b[0;32m---> 32\u001b[0m outputs \u001b[38;5;241m=\u001b[39m \u001b[43mtorch\u001b[49m\u001b[38;5;241;43m.\u001b[39;49m\u001b[43mzeros\u001b[49m\u001b[43m(\u001b[49m\u001b[43mtrg_len\u001b[49m\u001b[43m,\u001b[49m\u001b[43m \u001b[49m\u001b[43mbatch_size\u001b[49m\u001b[43m,\u001b[49m\u001b[43m \u001b[49m\u001b[43mtrg_vocab_size\u001b[49m\u001b[43m)\u001b[49m\u001b[38;5;241;43m.\u001b[39;49m\u001b[43mto\u001b[49m\u001b[43m(\u001b[49m\u001b[38;5;28;43mself\u001b[39;49m\u001b[38;5;241;43m.\u001b[39;49m\u001b[43mdevice\u001b[49m\u001b[43m)\u001b[49m\n\u001b[1;32m     34\u001b[0m \u001b[38;5;66;03m#encoder_outputs is all hidden states of the input sequence, back and forwards\u001b[39;00m\n\u001b[1;32m     35\u001b[0m \u001b[38;5;66;03m#hidden is the final forward and backward hidden states, passed through a linear layer\u001b[39;00m\n\u001b[1;32m     36\u001b[0m encoder_outputs, hidden \u001b[38;5;241m=\u001b[39m \u001b[38;5;28mself\u001b[39m\u001b[38;5;241m.\u001b[39mencoder(src, src_len)\n",
      "\u001b[0;31mOutOfMemoryError\u001b[0m: CUDA out of memory. Tried to allocate 128.05 GiB (GPU 0; 23.70 GiB total capacity; 3.11 GiB already allocated; 19.53 GiB free; 3.13 GiB reserved in total by PyTorch) If reserved memory is >> allocated memory try setting max_split_size_mb to avoid fragmentation.  See documentation for Memory Management and PYTORCH_CUDA_ALLOC_CONF"
     ]
    }
   ],
   "source": [
    "N_EPOCHS = 1\n",
    "CLIP = 1\n",
    "\n",
    "best_valid_loss = float('inf')\n",
    "\n",
    "for epoch in range(N_EPOCHS):\n",
    "    \n",
    "    start_time = time.time()\n",
    "    \n",
    "    train_loss = train(model, train_loader, optimizer, criterion, CLIP)\n",
    "#     valid_loss = evaluate(model, valid_loader, criterion)\n",
    "    \n",
    "#     end_time = time.time()\n",
    "    \n",
    "#     epoch_mins, epoch_secs = epoch_time(start_time, end_time)\n",
    "    \n",
    "#     if valid_loss < best_valid_loss:\n",
    "#         best_valid_loss = valid_loss\n",
    "#         torch.save(model.state_dict(), 'tut4-model.pt')\n",
    "    \n",
    "#     print(f'Epoch: {epoch+1:02} | Time: {epoch_mins}m {epoch_secs}s')\n",
    "#     print(f'\\tTrain Loss: {train_loss:.3f} | Train PPL: {math.exp(train_loss):7.3f}')\n",
    "#     print(f'\\t Val. Loss: {valid_loss:.3f} |  Val. PPL: {math.exp(valid_loss):7.3f}')"
   ]
  },
  {
   "cell_type": "markdown",
   "metadata": {},
   "source": [
    "Finally, we load the parameters from our best validation loss and get our results on the test set.\n",
    "\n",
    "We get the improved test perplexity whilst almost being twice as fast!"
   ]
  },
  {
   "cell_type": "code",
   "execution_count": null,
   "metadata": {
    "tags": []
   },
   "outputs": [],
   "source": [
    "# model.load_state_dict(torch.load('tut4-model.pt'))\n",
    "\n",
    "# test_loss = evaluate(model, test_iterator, criterion)\n",
    "\n",
    "# print(f'| Test Loss: {test_loss:.3f} | Test PPL: {math.exp(test_loss):7.3f} |')"
   ]
  },
  {
   "cell_type": "markdown",
   "metadata": {},
   "source": [
    "## Inference\n",
    "\n",
    "Now we can use our trained model to generate translations.\n",
    "\n",
    "**Note:** these translations will be poor compared to examples shown in paper as they use hidden dimension sizes of 1000 and train for 4 days! They have been cherry picked in order to show off what attention should look like on a sufficiently sized model.\n",
    "\n",
    "Our `translate_sentence` will do the following:\n",
    "- ensure our model is in evaluation mode, which it should always be for inference\n",
    "- tokenize the source sentence if it has not been tokenized (is a string)\n",
    "- numericalize the source sentence\n",
    "- convert it to a tensor and add a batch dimension\n",
    "- get the length of the source sentence and convert to a tensor\n",
    "- feed the source sentence into the encoder\n",
    "- create the mask for the source sentence\n",
    "- create a list to hold the output sentence, initialized with an `<sos>` token\n",
    "- create a tensor to hold the attention values\n",
    "- while we have not hit a maximum length\n",
    "  - get the input tensor, which should be either `<sos>` or the last predicted token\n",
    "  - feed the input, all encoder outputs, hidden state and mask into the decoder\n",
    "  - store attention values\n",
    "  - get the predicted next token\n",
    "  - add prediction to current output sentence prediction\n",
    "  - break if the prediction was an `<eos>` token\n",
    "- convert the output sentence from indexes to tokens\n",
    "- return the output sentence (with the `<sos>` token removed) and the attention values over the sequence"
   ]
  },
  {
   "cell_type": "code",
   "execution_count": null,
   "metadata": {},
   "outputs": [],
   "source": [
    "# def translate_sentence(sentence, src_field, trg_field, model, device, max_len = 50):\n",
    "\n",
    "#     model.eval()\n",
    "        \n",
    "#     if isinstance(sentence, str):\n",
    "#         nlp = spacy.load('de')\n",
    "#         tokens = [token.text.lower() for token in nlp(sentence)]\n",
    "#     else:\n",
    "#         tokens = [token.lower() for token in sentence]\n",
    "\n",
    "#     tokens = [src_field.init_token] + tokens + [src_field.eos_token]\n",
    "        \n",
    "#     src_indexes = [src_field.vocab.stoi[token] for token in tokens]\n",
    "    \n",
    "#     src_tensor = torch.LongTensor(src_indexes).unsqueeze(1).to(device)\n",
    "\n",
    "#     src_len = torch.LongTensor([len(src_indexes)])\n",
    "    \n",
    "#     with torch.no_grad():\n",
    "#         encoder_outputs, hidden = model.encoder(src_tensor, src_len)\n",
    "\n",
    "#     mask = model.create_mask(src_tensor)\n",
    "        \n",
    "#     trg_indexes = [trg_field.vocab.stoi[trg_field.init_token]]\n",
    "\n",
    "#     attentions = torch.zeros(max_len, 1, len(src_indexes)).to(device)\n",
    "    \n",
    "#     for i in range(max_len):\n",
    "\n",
    "#         trg_tensor = torch.LongTensor([trg_indexes[-1]]).to(device)\n",
    "                \n",
    "#         with torch.no_grad():\n",
    "#             output, hidden, attention = model.decoder(trg_tensor, hidden, encoder_outputs, mask)\n",
    "\n",
    "#         attentions[i] = attention\n",
    "            \n",
    "#         pred_token = output.argmax(1).item()\n",
    "        \n",
    "#         trg_indexes.append(pred_token)\n",
    "\n",
    "#         if pred_token == trg_field.vocab.stoi[trg_field.eos_token]:\n",
    "#             break\n",
    "    \n",
    "#     trg_tokens = [trg_field.vocab.itos[i] for i in trg_indexes]\n",
    "    \n",
    "#     return trg_tokens[1:], attentions[:len(trg_tokens)-1]"
   ]
  },
  {
   "cell_type": "markdown",
   "metadata": {},
   "source": [
    "Next, we'll make a function that displays the model's attention over the source sentence for each target token generated."
   ]
  },
  {
   "cell_type": "code",
   "execution_count": null,
   "metadata": {},
   "outputs": [],
   "source": [
    "# def display_attention(sentence, translation, attention):\n",
    "    \n",
    "#     fig = plt.figure(figsize=(10,10))\n",
    "#     ax = fig.add_subplot(111)\n",
    "    \n",
    "#     attention = attention.squeeze(1).cpu().detach().numpy()\n",
    "    \n",
    "#     cax = ax.matshow(attention, cmap='bone')\n",
    "   \n",
    "#     ax.tick_params(labelsize=15)\n",
    "    \n",
    "#     x_ticks = [''] + ['<sos>'] + [t.lower() for t in sentence] + ['<eos>']\n",
    "#     y_ticks = [''] + translation\n",
    "     \n",
    "#     ax.set_xticklabels(x_ticks, rotation=45)\n",
    "#     ax.set_yticklabels(y_ticks)\n",
    "\n",
    "#     ax.xaxis.set_major_locator(ticker.MultipleLocator(1))\n",
    "#     ax.yaxis.set_major_locator(ticker.MultipleLocator(1))\n",
    "\n",
    "#     plt.show()\n",
    "#     plt.close()"
   ]
  },
  {
   "cell_type": "markdown",
   "metadata": {},
   "source": [
    "Now, we'll grab some translations from our dataset and see how well our model did. Note, we're going to cherry pick examples here so it gives us something interesting to look at, but feel free to change the `example_idx` value to look at different examples.\n",
    "\n",
    "First, we'll get a source and target from our dataset."
   ]
  },
  {
   "cell_type": "code",
   "execution_count": null,
   "metadata": {},
   "outputs": [],
   "source": [
    "# example_idx = 12\n",
    "\n",
    "# src = vars(train_data.examples[example_idx])['src']\n",
    "# trg = vars(train_data.examples[example_idx])['trg']\n",
    "\n",
    "# print(f'src = {src}')\n",
    "# print(f'trg = {trg}')"
   ]
  },
  {
   "cell_type": "markdown",
   "metadata": {},
   "source": [
    "Then we'll use our `translate_sentence` function to get our predicted translation and attention. We show this graphically by having the source sentence on the x-axis and the predicted translation on the y-axis. The lighter the square at the intersection between two words, the more attention the model gave to that source word when translating that target word.\n",
    "\n",
    "Below is an example the model attempted to translate, it gets the translation correct except changes *are fighting* to just *fighting*."
   ]
  },
  {
   "cell_type": "code",
   "execution_count": null,
   "metadata": {},
   "outputs": [],
   "source": [
    "# translation, attention = translate_sentence(src, SRC, TRG, model, device)\n",
    "\n",
    "# print(f'predicted trg = {translation}')"
   ]
  },
  {
   "cell_type": "code",
   "execution_count": null,
   "metadata": {},
   "outputs": [],
   "source": [
    "# display_attention(src, translation, attention)"
   ]
  },
  {
   "cell_type": "markdown",
   "metadata": {},
   "source": [
    "Translations from the training set could simply be memorized by the model. So it's only fair we look at translations from the validation and testing set too.\n",
    "\n",
    "Starting with the validation set, let's get an example."
   ]
  },
  {
   "cell_type": "code",
   "execution_count": null,
   "metadata": {},
   "outputs": [],
   "source": [
    "# example_idx = 14\n",
    "\n",
    "# src = vars(valid_data.examples[example_idx])['src']\n",
    "# trg = vars(valid_data.examples[example_idx])['trg']\n",
    "\n",
    "# print(f'src = {src}')\n",
    "# print(f'trg = {trg}')"
   ]
  },
  {
   "cell_type": "markdown",
   "metadata": {},
   "source": [
    "Then let's generate our translation and view the attention.\n",
    "\n",
    "Here, we can see the translation is the same except for swapping *female* with *woman*."
   ]
  },
  {
   "cell_type": "code",
   "execution_count": null,
   "metadata": {},
   "outputs": [],
   "source": [
    "# translation, attention = translate_sentence(src, SRC, TRG, model, device)\n",
    "\n",
    "# print(f'predicted trg = {translation}')\n",
    "\n",
    "# display_attention(src, translation, attention)"
   ]
  },
  {
   "cell_type": "markdown",
   "metadata": {},
   "source": [
    "Finally, let's get an example from the test set."
   ]
  },
  {
   "cell_type": "code",
   "execution_count": null,
   "metadata": {},
   "outputs": [],
   "source": [
    "# example_idx = 18\n",
    "\n",
    "# src = vars(test_data.examples[example_idx])['src']\n",
    "# trg = vars(test_data.examples[example_idx])['trg']\n",
    "\n",
    "# print(f'src = {src}')\n",
    "# print(f'trg = {trg}')"
   ]
  },
  {
   "cell_type": "markdown",
   "metadata": {},
   "source": [
    "Again, it produces a slightly different translation than target, a more literal version of the source sentence. It swaps *mountain climbing* for *climbing a mountain*."
   ]
  },
  {
   "cell_type": "code",
   "execution_count": null,
   "metadata": {},
   "outputs": [],
   "source": [
    "# translation, attention = translate_sentence(src, SRC, TRG, model, device)\n",
    "\n",
    "# print(f'predicted trg = {translation}')\n",
    "\n",
    "# display_attention(src, translation, attention)"
   ]
  },
  {
   "cell_type": "markdown",
   "metadata": {},
   "source": [
    "## BLEU\n",
    "\n",
    "Previously we have only cared about the loss/perplexity of the model. However there metrics that are specifically designed for measuring the quality of a translation - the most popular is *BLEU*. Without going into too much detail, BLEU looks at the overlap in the predicted and actual target sequences in terms of their n-grams. It will give us a number between 0 and 1 for each sequence, where 1 means there is perfect overlap, i.e. a perfect translation, although is usually shown between 0 and 100. BLEU was designed for multiple candidate translations per source sequence, however in this dataset we only have one candidate per source.\n",
    "\n",
    "We define a `calculate_bleu` function which calculates the BLEU score over a provided TorchText dataset. This function creates a corpus of the actual and predicted translation for each source sentence and then calculates the BLEU score."
   ]
  },
  {
   "cell_type": "code",
   "execution_count": null,
   "metadata": {},
   "outputs": [],
   "source": [
    "# from torchtext.data.metrics import bleu_score\n",
    "\n",
    "# def calculate_bleu(data, src_field, trg_field, model, device, max_len = 50):\n",
    "    \n",
    "#     trgs = []\n",
    "#     pred_trgs = []\n",
    "    \n",
    "#     for datum in data:\n",
    "        \n",
    "#         src = vars(datum)['src']\n",
    "#         trg = vars(datum)['trg']\n",
    "        \n",
    "#         pred_trg, _ = translate_sentence(src, src_field, trg_field, model, device, max_len)\n",
    "        \n",
    "#         #cut off <eos> token\n",
    "#         pred_trg = pred_trg[:-1]\n",
    "        \n",
    "#         pred_trgs.append(pred_trg)\n",
    "#         trgs.append([trg])\n",
    "        \n",
    "#     return bleu_score(pred_trgs, trgs)"
   ]
  },
  {
   "cell_type": "markdown",
   "metadata": {},
   "source": [
    "We get a BLEU of around 28. If we compare it to the paper that the attention model is attempting to replicate, they achieve a BLEU score of 26.75. This is similar to our score, however they are using a completely different dataset and their model size is much larger - 1000 hidden dimensions which takes 4 days to train! - so we cannot really compare against that either.\n",
    "\n",
    "This number isn't really interpretable, we can't really say much about it. The most useful part of a BLEU score is that it can be used to compare different models on the same dataset, where the one with the **higher** BLEU score is \"better\"."
   ]
  },
  {
   "cell_type": "code",
   "execution_count": null,
   "metadata": {},
   "outputs": [],
   "source": [
    "# bleu_score = calculate_bleu(test_data, SRC, TRG, model, device)\n",
    "\n",
    "# print(f'BLEU score = {bleu_score*100:.2f}')"
   ]
  },
  {
   "cell_type": "markdown",
   "metadata": {},
   "source": [
    "In the next tutorials we will be moving away from using recurrent neural networks and start looking at other ways to construct sequence-to-sequence models. Specifically, in the next tutorial we will be using convolutional neural networks."
   ]
  }
 ],
 "metadata": {
  "kernelspec": {
   "display_name": "Python 3 (ipykernel)",
   "language": "python",
   "name": "python3"
  },
  "language_info": {
   "codemirror_mode": {
    "name": "ipython",
    "version": 3
   },
   "file_extension": ".py",
   "mimetype": "text/x-python",
   "name": "python",
   "nbconvert_exporter": "python",
   "pygments_lexer": "ipython3",
   "version": "3.9.16"
  }
 },
 "nbformat": 4,
 "nbformat_minor": 4
}
